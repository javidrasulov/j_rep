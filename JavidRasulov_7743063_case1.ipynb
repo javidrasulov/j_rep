{
 "cells": [
  {
   "cell_type": "markdown",
   "id": "866aaac9-98f9-42ea-b5e4-4153d44bf2ef",
   "metadata": {
    "jp-MarkdownHeadingCollapsed": true,
    "tags": []
   },
   "source": [
    "<h2><center>Data Analytics in Finance and Accounting</center></h2>\n",
    "<h3><center>Case Assignment 1: SE / CRSP Merge</center></h3>\n",
    "<h3><center>Mark Wahrenburg & Sasan Mansouri Winter Semester 2022-3</center></h3>\n",
    "<h3><center>Prepared by: Javid Rasulov - 7743063</center></h3>\n",
    "\n",
    "***"
   ]
  },
  {
   "cell_type": "markdown",
   "id": "a96977c8-0da9-4333-b443-3c99b7b5a2f0",
   "metadata": {},
   "source": [
    "### 1. How many companies have you managed to merge?\n",
    "> I have managed to merge 205,811 companies.\n",
    "\n",
    "### 2. What are the main obstacles to a perfect merge?\n",
    "> Historical names are in \"SEHeadline\" columns which holds huge variaty of form. Because SECompanyName and SEtickers are also not unique for each company we can not get certain primary key. \n",
    "\n",
    "### 3. What is special about CRSP names? Do you preprocess CRSP names before merging them? If so, what changes do you make?\n",
    "> CRSP names are all with capital letters. To make fuzzy merge better in both dataset I made relevant columns lowercase.\n",
    "\n",
    "### 4. Which tokens in the company names make your task challenging? How did you deal with them?\n",
    "> Although most of the Headlines take a form \"Q* 2*** COMNAM Earnings ***\", there are different order of words. The most problematic headlines are ones which company name comes first and there various number of words between those names and year. Also some headlines don't contain name of the company.\n",
    "\n",
    "### 5. What should be (theoretically) the number of records per firm’s fiscal year? What is the actual number of observations per firm’s fiscal year? Is this information helpful in identifying mismatches? Explain!\n",
    "> In the case of ideal scenario, in every fiscal company would have Q1, Q2, Q3, Q4, Half Year, Full Year (Preliminary) observations of phone calls. In our dataset on annual average we have 3.36 observations within a fiscal year. Detailed information is given below.\n",
    "> Knowing exactly how many observations to expect from each company would make it easy to find mismatches. In the case of excess matches we would be able to say that certain company mismatched. Data can be analyzed via looking for one company name under two same timeframe. \n",
    "\n",
    "### 6. What should be the relation between permco and the company name from the SEHeadline? More specifically, can one SEHeadline’s company name be correctly linked to multiple permcos (i.e., to more than one firm in CRSP)? Can one permco be correctly linked to multiple company names from SEHeadline?\n",
    "> Permco represents a single company from a crsp dataset which includes all historical names of company. In SEHeadline column, company names change dynamically throughout time which means each permco can linked to several compnay names in SEHeadline.\n",
    "\n",
    "### 7. What additional firm information would be helpful to check the validity of a match?\n",
    "> To know which companies of SE data represented in the CRSP would make easy to eliminate irrelevant data."
   ]
  },
  {
   "cell_type": "markdown",
   "id": "951c49f3-98c8-4c2e-a3c3-dedf24f191ac",
   "metadata": {},
   "source": [
    " "
   ]
  },
  {
   "cell_type": "markdown",
   "id": "5e7bd85d-a85b-4bc4-8bdc-52a3709df7af",
   "metadata": {},
   "source": [
    " "
   ]
  },
  {
   "cell_type": "markdown",
   "id": "91a4135e-55f5-475c-8838-c5471a843951",
   "metadata": {},
   "source": [
    "In the case study pandas, numpy, re and thefuzz modules are used."
   ]
  },
  {
   "cell_type": "code",
   "execution_count": 1,
   "id": "4f0d97c9-d467-4a8e-92b3-0431f536f876",
   "metadata": {},
   "outputs": [],
   "source": [
    "import pandas as pd \n",
    "import numpy as np\n",
    "import re"
   ]
  },
  {
   "cell_type": "markdown",
   "id": "e8526e54-6752-4c06-805c-e14c6ea759c0",
   "metadata": {},
   "source": [
    "Relevant dataframes are \"crsp\" which takes data from CRPnames.csv and \"se\" from SEmappingDAFA.csv."
   ]
  },
  {
   "cell_type": "code",
   "execution_count": 2,
   "id": "b73e1624-3056-4ff4-a06f-d530e7d0bb49",
   "metadata": {},
   "outputs": [],
   "source": [
    "crsp = pd.read_csv(r\"/Users/javidrasulov/Desktop/Goethe/Season 2/Episode 1/DAFA/CaseStudy-1 SE - CRSP merge/Data/CRSPnames.csv\")\n",
    "se = pd.read_csv(r\"/Users/javidrasulov/Desktop/Goethe/Season 2/Episode 1/DAFA/CaseStudy-1 SE - CRSP merge/Data/SEmappingsDAFA.csv\")"
   ]
  },
  {
   "cell_type": "markdown",
   "id": "246f2e5d-b4a6-44de-ab12-23e06142f8db",
   "metadata": {},
   "source": [
    "Firstly I have checked for the most frequently used word in the \"SEHeadline\" column. It gave me initial understanding of the mainly used words to add regex."
   ]
  },
  {
   "cell_type": "code",
   "execution_count": 88,
   "id": "a6249d3f-588c-45bf-a788-194e94f00b1c",
   "metadata": {},
   "outputs": [],
   "source": [
    "# count is a list contains all strings from \"SEHeadline\" combained.\n",
    "count = se['SEHeadline'].str.split().to_list()"
   ]
  },
  {
   "cell_type": "code",
   "execution_count": 89,
   "id": "afc000a6-cdf0-4239-8c8e-d595a95ffeb9",
   "metadata": {},
   "outputs": [],
   "source": [
    "# Loop convertes nested list to one flat list.\n",
    "flat_list = []\n",
    "for sublist in count:\n",
    "    for item in sublist:\n",
    "        flat_list.append(item)"
   ]
  },
  {
   "cell_type": "markdown",
   "id": "64ecc1ac-af8b-44c7-ba47-e64f59d4e51a",
   "metadata": {},
   "source": [
    "Below, you can see most frequently used words in SEHeadlines. Some of them are relevant for regex. Quarters, earnings, call, conference words don't represent company names and should be removed."
   ]
  },
  {
   "cell_type": "code",
   "execution_count": 87,
   "id": "00a6e26d-f048-4334-b798-e18434e97d1a",
   "metadata": {
    "tags": []
   },
   "outputs": [
    {
     "data": {
      "text/plain": [
       "earnings      324901\n",
       "call          310682\n",
       "conference    184964\n",
       "q3             76645\n",
       "q2             76188\n",
       "inc            75614\n",
       "q1             75314\n",
       "q4             70030\n",
       "inc.           32569\n",
       "corp           29343\n",
       "dtype: int64"
      ]
     },
     "execution_count": 87,
     "metadata": {},
     "output_type": "execute_result"
    }
   ],
   "source": [
    "pd.value_counts(np.array(flat_list))[0:10]"
   ]
  },
  {
   "cell_type": "markdown",
   "id": "90f107b8-c552-4c13-9d26-05c6e4c33c01",
   "metadata": {},
   "source": [
    "## TimeFrame analysis of Data"
   ]
  },
  {
   "cell_type": "markdown",
   "id": "deb692ac-6c9c-474a-ae55-64ea2c6a1e95",
   "metadata": {},
   "source": [
    "In this section, I tried to count the number of observation for each company in each year. As a result I got average number of observaions."
   ]
  },
  {
   "cell_type": "code",
   "execution_count": 82,
   "id": "ed03ceec-9884-4a9d-a5bf-6cf3421bf72f",
   "metadata": {},
   "outputs": [],
   "source": [
    "se_year = se"
   ]
  },
  {
   "cell_type": "code",
   "execution_count": 83,
   "id": "01a3fbc5-847a-4ac6-8985-2b4d9f494229",
   "metadata": {},
   "outputs": [
    {
     "data": {
      "text/html": [
       "<div>\n",
       "<style scoped>\n",
       "    .dataframe tbody tr th:only-of-type {\n",
       "        vertical-align: middle;\n",
       "    }\n",
       "\n",
       "    .dataframe tbody tr th {\n",
       "        vertical-align: top;\n",
       "    }\n",
       "\n",
       "    .dataframe thead th {\n",
       "        text-align: right;\n",
       "    }\n",
       "</style>\n",
       "<table border=\"1\" class=\"dataframe\">\n",
       "  <thead>\n",
       "    <tr style=\"text-align: right;\">\n",
       "      <th></th>\n",
       "      <th>SEid</th>\n",
       "      <th>SECompanyName</th>\n",
       "      <th>SEticker</th>\n",
       "      <th>SEHeadline</th>\n",
       "      <th>MergeComnam</th>\n",
       "      <th>SEHeadline_adj</th>\n",
       "    </tr>\n",
       "  </thead>\n",
       "  <tbody>\n",
       "    <tr>\n",
       "      <th>0</th>\n",
       "      <td>12811556.0</td>\n",
       "      <td>1&amp;1 Drillisch AG</td>\n",
       "      <td>DRI.DE</td>\n",
       "      <td>q3 2019 1&amp;1 drillisch ag earnings call</td>\n",
       "      <td>NaN</td>\n",
       "      <td>1&amp;1 drillisch ag</td>\n",
       "    </tr>\n",
       "    <tr>\n",
       "      <th>1</th>\n",
       "      <td>12353192.0</td>\n",
       "      <td>1&amp;1 Drillisch AG</td>\n",
       "      <td>DRI.DE</td>\n",
       "      <td>q4 2018 1&amp;1 drillisch ag earnings call</td>\n",
       "      <td>NaN</td>\n",
       "      <td>1&amp;1 drillisch ag</td>\n",
       "    </tr>\n",
       "    <tr>\n",
       "      <th>2</th>\n",
       "      <td>12528454.0</td>\n",
       "      <td>1&amp;1 Drillisch AG</td>\n",
       "      <td>DRI.DE</td>\n",
       "      <td>q1 2019 1&amp;1 drillisch ag earnings call</td>\n",
       "      <td>NaN</td>\n",
       "      <td>1&amp;1 drillisch ag</td>\n",
       "    </tr>\n",
       "    <tr>\n",
       "      <th>3</th>\n",
       "      <td>12623828.0</td>\n",
       "      <td>1&amp;1 Drillisch AG</td>\n",
       "      <td>DRI.DE</td>\n",
       "      <td>q2 2019 1&amp;1 drillisch ag earnings call</td>\n",
       "      <td>NaN</td>\n",
       "      <td>1&amp;1 drillisch ag</td>\n",
       "    </tr>\n",
       "    <tr>\n",
       "      <th>4</th>\n",
       "      <td>13446819.0</td>\n",
       "      <td>1&amp;1 Drillisch AG</td>\n",
       "      <td>DRIG.DE</td>\n",
       "      <td>q3 2020 1&amp;1 drillisch ag earnings call</td>\n",
       "      <td>NaN</td>\n",
       "      <td>1&amp;1 drillisch ag</td>\n",
       "    </tr>\n",
       "    <tr>\n",
       "      <th>...</th>\n",
       "      <td>...</td>\n",
       "      <td>...</td>\n",
       "      <td>...</td>\n",
       "      <td>...</td>\n",
       "      <td>...</td>\n",
       "      <td>...</td>\n",
       "    </tr>\n",
       "    <tr>\n",
       "      <th>327444</th>\n",
       "      <td>3390780.0</td>\n",
       "      <td>TDK Corp</td>\n",
       "      <td>6762.T</td>\n",
       "      <td>q2 2011 tdk earnings presentation and webcast ...</td>\n",
       "      <td>NaN</td>\n",
       "      <td>tdk</td>\n",
       "    </tr>\n",
       "    <tr>\n",
       "      <th>327445</th>\n",
       "      <td>2806790.0</td>\n",
       "      <td>TDK Corp</td>\n",
       "      <td>6762.T</td>\n",
       "      <td>full year 2010 tdk earnings presentation and w...</td>\n",
       "      <td>NaN</td>\n",
       "      <td>tdk</td>\n",
       "    </tr>\n",
       "    <tr>\n",
       "      <th>327446</th>\n",
       "      <td>3166510.0</td>\n",
       "      <td>TDK Corp</td>\n",
       "      <td>6762.T</td>\n",
       "      <td>q1 2011 tdk earnings presentation and webcast ...</td>\n",
       "      <td>NaN</td>\n",
       "      <td>tdk</td>\n",
       "    </tr>\n",
       "    <tr>\n",
       "      <th>327447</th>\n",
       "      <td>2545276.0</td>\n",
       "      <td>TDK Corp</td>\n",
       "      <td>6762.T</td>\n",
       "      <td>q3 2010 tdk earnings presentation (japanese)</td>\n",
       "      <td>NaN</td>\n",
       "      <td>tdk</td>\n",
       "    </tr>\n",
       "    <tr>\n",
       "      <th>327448</th>\n",
       "      <td>3644963.0</td>\n",
       "      <td>TDK Corp</td>\n",
       "      <td>6762.T</td>\n",
       "      <td>q3 2011 tdk earnings presentation and webcast ...</td>\n",
       "      <td>NaN</td>\n",
       "      <td>tdk</td>\n",
       "    </tr>\n",
       "  </tbody>\n",
       "</table>\n",
       "<p>327449 rows × 6 columns</p>\n",
       "</div>"
      ],
      "text/plain": [
       "              SEid     SECompanyName SEticker  \\\n",
       "0       12811556.0  1&1 Drillisch AG   DRI.DE   \n",
       "1       12353192.0  1&1 Drillisch AG   DRI.DE   \n",
       "2       12528454.0  1&1 Drillisch AG   DRI.DE   \n",
       "3       12623828.0  1&1 Drillisch AG   DRI.DE   \n",
       "4       13446819.0  1&1 Drillisch AG  DRIG.DE   \n",
       "...            ...               ...      ...   \n",
       "327444   3390780.0          TDK Corp   6762.T   \n",
       "327445   2806790.0          TDK Corp   6762.T   \n",
       "327446   3166510.0          TDK Corp   6762.T   \n",
       "327447   2545276.0          TDK Corp   6762.T   \n",
       "327448   3644963.0          TDK Corp   6762.T   \n",
       "\n",
       "                                               SEHeadline  MergeComnam  \\\n",
       "0                  q3 2019 1&1 drillisch ag earnings call          NaN   \n",
       "1                  q4 2018 1&1 drillisch ag earnings call          NaN   \n",
       "2                  q1 2019 1&1 drillisch ag earnings call          NaN   \n",
       "3                  q2 2019 1&1 drillisch ag earnings call          NaN   \n",
       "4                  q3 2020 1&1 drillisch ag earnings call          NaN   \n",
       "...                                                   ...          ...   \n",
       "327444  q2 2011 tdk earnings presentation and webcast ...          NaN   \n",
       "327445  full year 2010 tdk earnings presentation and w...          NaN   \n",
       "327446  q1 2011 tdk earnings presentation and webcast ...          NaN   \n",
       "327447       q3 2010 tdk earnings presentation (japanese)          NaN   \n",
       "327448  q3 2011 tdk earnings presentation and webcast ...          NaN   \n",
       "\n",
       "          SEHeadline_adj  \n",
       "0       1&1 drillisch ag  \n",
       "1       1&1 drillisch ag  \n",
       "2       1&1 drillisch ag  \n",
       "3       1&1 drillisch ag  \n",
       "4       1&1 drillisch ag  \n",
       "...                  ...  \n",
       "327444               tdk  \n",
       "327445               tdk  \n",
       "327446               tdk  \n",
       "327447               tdk  \n",
       "327448               tdk  \n",
       "\n",
       "[327449 rows x 6 columns]"
      ]
     },
     "execution_count": 83,
     "metadata": {},
     "output_type": "execute_result"
    }
   ],
   "source": [
    "se_year"
   ]
  },
  {
   "cell_type": "markdown",
   "id": "f072c713-3f67-445b-ab17-658441757c7c",
   "metadata": {},
   "source": [
    "The \"extract_year\" function finds fiscal year of observation from the headlines. In the case of absence it gives null."
   ]
  },
  {
   "cell_type": "code",
   "execution_count": 90,
   "id": "d79055f4-1f88-4c96-9bf9-74d318bc2bdc",
   "metadata": {},
   "outputs": [],
   "source": [
    "def extract_year(name):\n",
    "    try:\n",
    "        result = re.findall(\"2\\d{3,}\",name)[-1]\n",
    "        return result\n",
    "    except:\n",
    "        pass"
   ]
  },
  {
   "cell_type": "markdown",
   "id": "4d1cda17-7db7-40d6-96a3-51fb60b60cbd",
   "metadata": {},
   "source": [
    "The \"extract_year\" function is applied via using multiprocess. I used pandarallel to avoid time consuming processing. Throughout notebook, in several cases I pursued similar approach."
   ]
  },
  {
   "cell_type": "code",
   "execution_count": 91,
   "id": "eabe60ec-42c0-456d-9d33-695459947048",
   "metadata": {},
   "outputs": [
    {
     "name": "stdout",
     "output_type": "stream",
     "text": [
      "INFO: Pandarallel will run on 2 workers.\n",
      "INFO: Pandarallel will use standard multiprocessing data transfer (pipe) to transfer data between the main process and workers.\n"
     ]
    },
    {
     "data": {
      "application/vnd.jupyter.widget-view+json": {
       "model_id": "9c6e915661024ae2ae8b833f1dd3d155",
       "version_major": 2,
       "version_minor": 0
      },
      "text/plain": [
       "VBox(children=(HBox(children=(IntProgress(value=0, description='0.00%', max=163725), Label(value='0 / 163725')…"
      ]
     },
     "metadata": {},
     "output_type": "display_data"
    }
   ],
   "source": [
    "pandarallel.initialize(progress_bar=True)\n",
    "\n",
    "se_year[\"SEYear\"] = se_year.parallel_apply(lambda row: extract_year(row['SEHeadline']),axis=1)"
   ]
  },
  {
   "cell_type": "markdown",
   "id": "405010b1-ad51-4b21-a24d-b3a533c281c4",
   "metadata": {},
   "source": [
    "The \"extract_quarter\" function finds quarter of observation from the headlines. In the case of absence it gives null."
   ]
  },
  {
   "cell_type": "code",
   "execution_count": 92,
   "id": "e637d27b-8dab-4dd9-8ffc-7bdfca4c57f5",
   "metadata": {},
   "outputs": [],
   "source": [
    "def extract_quarter(name):\n",
    "    try:\n",
    "        result = re.findall(\"Q\\d|First|Second|Third|Fourth|\\dQ|Full Year|Half Year\",name)[-1]\n",
    "        return result\n",
    "    except:\n",
    "        pass"
   ]
  },
  {
   "cell_type": "code",
   "execution_count": 100,
   "id": "e24bd1dd-f5c2-4b0b-9389-68d2da1f29ac",
   "metadata": {},
   "outputs": [
    {
     "name": "stdout",
     "output_type": "stream",
     "text": [
      "INFO: Pandarallel will run on 2 workers.\n",
      "INFO: Pandarallel will use standard multiprocessing data transfer (pipe) to transfer data between the main process and workers.\n"
     ]
    },
    {
     "data": {
      "application/vnd.jupyter.widget-view+json": {
       "model_id": "0eb1be4e1493466488a47c2e21e2b07b",
       "version_major": 2,
       "version_minor": 0
      },
      "text/plain": [
       "VBox(children=(HBox(children=(IntProgress(value=0, description='0.00%', max=163725), Label(value='0 / 163725')…"
      ]
     },
     "metadata": {},
     "output_type": "display_data"
    }
   ],
   "source": [
    "pandarallel.initialize(progress_bar=True)\n",
    "\n",
    "se_year[\"SEQuarter\"] = se_year.parallel_apply(lambda row: extract_quarter(row['SEHeadline']),axis=1)"
   ]
  },
  {
   "cell_type": "markdown",
   "id": "291594b9-cb0b-4aee-8b9c-5f8d71fb0955",
   "metadata": {},
   "source": [
    "Only in 1,133 observations we are missing a year information. The effect is negligible."
   ]
  },
  {
   "cell_type": "code",
   "execution_count": 102,
   "id": "116fd378-d622-4ceb-9840-80e7af604e03",
   "metadata": {},
   "outputs": [
    {
     "data": {
      "text/plain": [
       "1133"
      ]
     },
     "execution_count": 102,
     "metadata": {},
     "output_type": "execute_result"
    }
   ],
   "source": [
    "se_year[\"SEYear\"].isnull().sum()"
   ]
  },
  {
   "cell_type": "markdown",
   "id": "f008c293-c3f7-47c2-94a1-2879bba83878",
   "metadata": {},
   "source": [
    "Below, code groups data with fiscal year and quarter."
   ]
  },
  {
   "cell_type": "code",
   "execution_count": 95,
   "id": "3f8e138b-14fe-4852-9332-34250821ad82",
   "metadata": {},
   "outputs": [],
   "source": [
    "se_grouped = se_year.groupby([\"SECompanyName\",\"SEYear\"]).count()"
   ]
  },
  {
   "cell_type": "code",
   "execution_count": 97,
   "id": "579676ff-de37-4bd8-8a9a-3d8f17e1ec5c",
   "metadata": {},
   "outputs": [
    {
     "name": "stdout",
     "output_type": "stream",
     "text": [
      "The Number of Companies which had 5 calls within a year 1413\n",
      "The Number of Companies which had 4 calls within a year 55458\n",
      "The Number of Companies which had 3 calls within a year 12572\n",
      "The Number of Companies which had 2 calls within a year 13829\n",
      "The Number of Companies which had 1 calls within a year 11170\n"
     ]
    }
   ],
   "source": [
    "print(\"The Number of Companies which had 5 calls within a year \" + str(se_grouped[se_grouped[\"SEid\"]==5].count()[1]))\n",
    "print(\"The Number of Companies which had 4 calls within a year \" + str(se_grouped[se_grouped[\"SEid\"]==4].count()[1]))\n",
    "print(\"The Number of Companies which had 3 calls within a year \" + str(se_grouped[se_grouped[\"SEid\"]==3].count()[1]))\n",
    "print(\"The Number of Companies which had 2 calls within a year \" + str(se_grouped[se_grouped[\"SEid\"]==2].count()[1]))\n",
    "print(\"The Number of Companies which had 1 calls within a year \" + str(se_grouped[se_grouped[\"SEid\"]==1].count()[1]))"
   ]
  },
  {
   "cell_type": "code",
   "execution_count": 27,
   "id": "8a233ad6-2455-4871-ace9-09cdef4771d4",
   "metadata": {},
   "outputs": [
    {
     "data": {
      "text/plain": [
       "count    96992.000000\n",
       "mean         3.364360\n",
       "std          1.446625\n",
       "min          1.000000\n",
       "25%          2.000000\n",
       "50%          4.000000\n",
       "75%          4.000000\n",
       "max         36.000000\n",
       "Name: SEid, dtype: float64"
      ]
     },
     "execution_count": 27,
     "metadata": {},
     "output_type": "execute_result"
    }
   ],
   "source": [
    "se_grouped[\"SEid\"].describe()"
   ]
  },
  {
   "cell_type": "markdown",
   "id": "a7f9b874-42b0-4d26-899b-3df5aad79fa4",
   "metadata": {},
   "source": [
    "\n",
    "\n",
    "\n",
    "\n",
    "\n",
    "\n"
   ]
  },
  {
   "cell_type": "markdown",
   "id": "abdc06fd-c46b-4139-be62-c5afcb745acc",
   "metadata": {},
   "source": [
    "# Matching SEMapping and CRSP Dataframes"
   ]
  },
  {
   "cell_type": "markdown",
   "id": "c5d859bb-807e-461f-9a07-cbb782b61ed7",
   "metadata": {},
   "source": [
    "\"namecut\" function applies re.sub() formula. Via re.sub I tried to conditioning on \"earning\" word which occurs at the second half of the headlines and continues with irrelevant words. My regex removes \"2\\d{3,}\" - two and following three digits which represent a year, \"\\w+.?quarter\" - quarter, every word after earnings and analyst."
   ]
  },
  {
   "cell_type": "code",
   "execution_count": 16,
   "id": "fc4ee69d-17b6-4850-a632-93ef7a34e078",
   "metadata": {},
   "outputs": [],
   "source": [
    "def namecut(name):\n",
    "    name = re.sub(\"(?:(?=.*\\bearning)^.*2\\d{3,} |\\w+.?quarter | ?earning\\w+.*$|(?!.*\\bearning)^.*2\\d{3,} | analyst.*|conference.*|\\w+.?quarter)\",\"\",name)\n",
    "    return name"
   ]
  },
  {
   "cell_type": "markdown",
   "id": "1db22d3c-294f-4439-a4bc-e4cfe2756627",
   "metadata": {},
   "source": [
    "I used lowercase strings for precision."
   ]
  },
  {
   "cell_type": "code",
   "execution_count": 5,
   "id": "7987ee46-1a28-422e-ad9e-875a88bb50c7",
   "metadata": {},
   "outputs": [],
   "source": [
    "se.SEHeadline = se.SEHeadline.str.lower()"
   ]
  },
  {
   "cell_type": "markdown",
   "id": "62790ce3-daf4-41c8-a40f-10d954e46778",
   "metadata": {},
   "source": [
    "I parallely applied namecut function on the \"SEHeadline\" column and created \"SEHeadline_adj\""
   ]
  },
  {
   "cell_type": "code",
   "execution_count": 22,
   "id": "8f066628-4e62-489f-83b0-9903a0c40de5",
   "metadata": {},
   "outputs": [
    {
     "name": "stdout",
     "output_type": "stream",
     "text": [
      "INFO: Pandarallel will run on 2 workers.\n",
      "INFO: Pandarallel will use standard multiprocessing data transfer (pipe) to transfer data between the main process and workers.\n"
     ]
    },
    {
     "data": {
      "application/vnd.jupyter.widget-view+json": {
       "model_id": "5bff4acb2a26493ab85edd966e1acf33",
       "version_major": 2,
       "version_minor": 0
      },
      "text/plain": [
       "VBox(children=(HBox(children=(IntProgress(value=0, description='0.00%', max=163725), Label(value='0 / 163725')…"
      ]
     },
     "metadata": {},
     "output_type": "display_data"
    }
   ],
   "source": [
    "from pandarallel import pandarallel\n",
    "pandarallel.initialize(progress_bar=True)\n",
    "\n",
    "se[\"SEHeadline_adj\"] = se.parallel_apply(lambda row: namecut(row['SEHeadline']),axis=1)"
   ]
  },
  {
   "cell_type": "markdown",
   "id": "d84ad00e-66c5-4724-9d08-9f3bef87b27f",
   "metadata": {},
   "source": [
    "Company name in crsp data is also lowercased."
   ]
  },
  {
   "cell_type": "code",
   "execution_count": 23,
   "id": "eb5350d7-d377-43c1-a462-c4c3699c8691",
   "metadata": {},
   "outputs": [],
   "source": [
    "crsp.COMNAM = crsp.COMNAM.str.lower()"
   ]
  },
  {
   "cell_type": "code",
   "execution_count": 24,
   "id": "9f6da7cb-518c-4b0e-95d5-eed823591e35",
   "metadata": {},
   "outputs": [],
   "source": [
    "from thefuzz import fuzz\n",
    "from thefuzz import process"
   ]
  },
  {
   "cell_type": "markdown",
   "id": "8d3b81cc-a632-4f6f-bf1d-93e57351ef6f",
   "metadata": {},
   "source": [
    "\"match\" function uses fuzzymerge to find relevant company name from crsp dataset."
   ]
  },
  {
   "cell_type": "code",
   "execution_count": 51,
   "id": "fb232859-95db-434b-b3a3-1be7ad44a675",
   "metadata": {},
   "outputs": [],
   "source": [
    "def match(name):\n",
    "    try:\n",
    "        name = process.extractOne(name, crsp.COMNAM, score_cutoff = 85, scorer=fuzz.token_sort_ratio)[0]\n",
    "        return name\n",
    "    except:\n",
    "        pass"
   ]
  },
  {
   "cell_type": "markdown",
   "id": "9df63cd5-6be3-4c79-a2ce-d2e147fa0c43",
   "metadata": {},
   "source": [
    "Fuzzy merge applied on only uniqe values to avoid waste of time. The \"uniques\" dataframe contains unique values of adjusted headlines."
   ]
  },
  {
   "cell_type": "code",
   "execution_count": 52,
   "id": "c87f9a8f-3532-4bee-ace3-5c7ae08a67e1",
   "metadata": {},
   "outputs": [],
   "source": [
    "uniques = pd.DataFrame({ \"SEHeadline_adj\":se.SEHeadline_adj.unique()})"
   ]
  },
  {
   "cell_type": "markdown",
   "id": "12239449-516e-4812-8a84-fa932f2dadf1",
   "metadata": {},
   "source": [
    "\"match\" function paralelly applied on unique values."
   ]
  },
  {
   "cell_type": "code",
   "execution_count": 53,
   "id": "36ca2405-dd54-4946-854f-0077502f3f2c",
   "metadata": {},
   "outputs": [
    {
     "name": "stdout",
     "output_type": "stream",
     "text": [
      "INFO: Pandarallel will run on 2 workers.\n",
      "INFO: Pandarallel will use standard multiprocessing data transfer (pipe) to transfer data between the main process and workers.\n"
     ]
    },
    {
     "data": {
      "application/vnd.jupyter.widget-view+json": {
       "model_id": "b18dc974ddc14740824f5085ae20fbc1",
       "version_major": 2,
       "version_minor": 0
      },
      "text/plain": [
       "VBox(children=(HBox(children=(IntProgress(value=0, description='0.00%', max=12695), Label(value='0 / 12695')))…"
      ]
     },
     "metadata": {},
     "output_type": "display_data"
    },
    {
     "name": "stderr",
     "output_type": "stream",
     "text": [
      "WARNING:root:Applied processor reduces input query to empty string, all comparisons will have score 0. [Query: '']\n",
      "WARNING:root:Applied processor reduces input query to empty string, all comparisons will have score 0. [Query: ' ']\n",
      "WARNING:root:Applied processor reduces input query to empty string, all comparisons will have score 0. [Query: '– ']\n",
      "WARNING:root:Applied processor reduces input query to empty string, all comparisons will have score 0. [Query: '- ']\n"
     ]
    }
   ],
   "source": [
    "pandarallel.initialize(progress_bar=True)\n",
    "\n",
    "uniques[\"COMNAM\"] = uniques.parallel_apply(lambda row: match(row['SEHeadline_adj']),axis=1)"
   ]
  },
  {
   "cell_type": "markdown",
   "id": "fe2f55dc-9e3e-45cf-9674-a6d00d6ab0d7",
   "metadata": {},
   "source": [
    "In the final part, \"final_data\" dataframe created by merging se and unique values. So, we get crsp company names for each of our observation."
   ]
  },
  {
   "cell_type": "code",
   "execution_count": 60,
   "id": "308b0af8-fc95-438a-8848-69e03f5c8883",
   "metadata": {},
   "outputs": [],
   "source": [
    "final_data = pd.merge(se, uniques, how=\"left\", left_on=\"SEHeadline_adj\", right_on=\"SEHeadline_adj\")"
   ]
  },
  {
   "cell_type": "code",
   "execution_count": 75,
   "id": "86062e99-9d63-4219-a4b4-4eadd4c70536",
   "metadata": {},
   "outputs": [],
   "source": [
    "final_data = final_data.drop(columns=[\"MergeComnam\"])"
   ]
  },
  {
   "cell_type": "code",
   "execution_count": 77,
   "id": "158a1e96-ad70-404f-aad4-f80aef083a02",
   "metadata": {},
   "outputs": [],
   "source": [
    "final_data = final_data.rename(columns={\"COMNAM\":\"MergeComnam\"})"
   ]
  },
  {
   "cell_type": "markdown",
   "id": "96517ba1-5953-45eb-ba44-43bdc17da7f9",
   "metadata": {},
   "source": [
    "Finally, we are calculating the number of matches which are notnull cells."
   ]
  },
  {
   "cell_type": "code",
   "execution_count": 103,
   "id": "ce7c5105-4bd4-4d22-b96b-cbb30087cb76",
   "metadata": {},
   "outputs": [
    {
     "data": {
      "text/plain": [
       "205811"
      ]
     },
     "execution_count": 103,
     "metadata": {},
     "output_type": "execute_result"
    }
   ],
   "source": [
    "final_data.MergeComnam.notnull().sum()"
   ]
  }
 ],
 "metadata": {
  "kernelspec": {
   "display_name": "Python 3 (ipykernel)",
   "language": "python",
   "name": "python3"
  },
  "language_info": {
   "codemirror_mode": {
    "name": "ipython",
    "version": 3
   },
   "file_extension": ".py",
   "mimetype": "text/x-python",
   "name": "python",
   "nbconvert_exporter": "python",
   "pygments_lexer": "ipython3",
   "version": "3.9.12"
  }
 },
 "nbformat": 4,
 "nbformat_minor": 5
}
